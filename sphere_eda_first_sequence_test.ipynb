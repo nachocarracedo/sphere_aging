{
 "cells": [
  {
   "cell_type": "markdown",
   "metadata": {},
   "source": [
    "https://www.drivendata.org/competitions/42/page/73/\n",
    "\n",
    "The task for this challenge is to recognize activities from the sensor data collected from participants. Here, \"activity recognition\" is the task of recognizing the posture and movements of the participants whose data was recorded, and our definition most closely aligns with the definition given by the accelerometer community. Three sensor modalities are provided for the prediction task:\n",
    "\n",
    "1. Accelerometer - Sampled at 20 Hz;\n",
    "\n",
    "2. RGB-D - Bounding box information given to preserve anonymity of participants;\n",
    "\n",
    "3. Environmental - The values of passive infrared (PIR) sensors are given.\n",
    "\n",
    "Lables of the dataset:\n",
    "\n",
    "1. a_ascend - ascend stairs;\n",
    "2. a_descend - descend stairs;\n",
    "3. a_jump - jump;\n",
    "4. a_loadwalk - walk with load;\n",
    "5. a_walk - walk;\n",
    "6. p_bent - bending;\n",
    "7. p_kneel - kneeling;\n",
    "8. p_lie - lying;\n",
    "9. p_sit - sitting;\n",
    "10. p_squat - squatting;\n",
    "11. p_stand - standing;\n",
    "12. t_bend - stand-to-bend;\n",
    "13. t_kneel_stand - kneel-to-stand;\n",
    "14. t_lie_sit - lie-to-sit;\n",
    "15. t_sit_lie - sit-to-lie;\n",
    "16. t_sit_stand - sit-to-stand;\n",
    "17. t_stand_kneel - stand-to-kneel;\n",
    "18. t_stand_sit - stand-to-sit;\n",
    "19. t_straighten - bend-to-stand; and\n",
    "20. t_turn - turn.\n",
    "\n",
    "The prefix 'a' on a label indicates an ambulation activity (i.e. an activity requiring of continuing movement), the prefix 'p' indicate static postures (i.e. times when the participants are stationary), and the prefix 't' indicate posture-to-posture transitions. These labels are the target variables that are to be predicted in the challenge\n",
    "\n",
    "***Each target is a vector of length 20 and aggregates the annotations of all annotators over one second non-overlapping windows. To understand the elements of the target vector, if, for a particular target vector, the activity a_walk is given a value of 0.05, this should be interpreted as meaning that on average the annotators marked 5% of the window as arising from walking. ***"
   ]
  },
  {
   "cell_type": "code",
   "execution_count": 1,
   "metadata": {
    "collapsed": true
   },
   "outputs": [],
   "source": [
    "import numpy as np\n",
    "import pandas as pd\n",
    "import matplotlib.pyplot as plt\n",
    "%matplotlib inline\n",
    "plt.style.use('fivethirtyeight')\n",
    "import math"
   ]
  },
  {
   "cell_type": "markdown",
   "metadata": {},
   "source": [
    "Training data is on the train folder which has many folders itself, one per sequence. Let's focus on the first of these folders (1st sequence)"
   ]
  },
  {
   "cell_type": "code",
   "execution_count": 2,
   "metadata": {
    "collapsed": true
   },
   "outputs": [],
   "source": [
    "targets_df = pd.read_csv('.\\\\public_data\\\\train\\\\00001\\\\targets.csv')\n",
    "pirsensor_df = pd.read_csv('.\\\\public_data\\\\train\\\\00001\\\\pir.csv')\n",
    "acceleration_df = pd.read_csv('.\\\\public_data\\\\train\\\\00001\\\\acceleration.csv')\n",
    "vhallway_df = pd.read_csv('.\\\\public_data\\\\train\\\\00001\\\\video_hallway.csv')\n",
    "vkitchen_df = pd.read_csv('.\\\\public_data\\\\train\\\\00001\\\\video_kitchen.csv')\n",
    "vlivingroom_df = pd.read_csv('.\\\\public_data\\\\train\\\\00001\\\\video_living_room.csv')"
   ]
  },
  {
   "cell_type": "markdown",
   "metadata": {},
   "source": [
    "# targets_df"
   ]
  },
  {
   "cell_type": "markdown",
   "metadata": {},
   "source": [
    "I'll check the datasets now. In targets we see that we have some nulls at the beggining, we'll remove these."
   ]
  },
  {
   "cell_type": "code",
   "execution_count": 3,
   "metadata": {
    "collapsed": false
   },
   "outputs": [
    {
     "name": "stdout",
     "output_type": "stream",
     "text": [
      "(1824, 22)\n"
     ]
    },
    {
     "data": {
      "text/plain": [
       "start             0\n",
       "end               0\n",
       "a_ascend         71\n",
       "a_descend        71\n",
       "a_jump           71\n",
       "a_loadwalk       71\n",
       "a_walk           71\n",
       "p_bent           71\n",
       "p_kneel          71\n",
       "p_lie            71\n",
       "p_sit            71\n",
       "p_squat          71\n",
       "p_stand          71\n",
       "t_bend           71\n",
       "t_kneel_stand    71\n",
       "t_lie_sit        71\n",
       "t_sit_lie        71\n",
       "t_sit_stand      71\n",
       "t_stand_kneel    71\n",
       "t_stand_sit      71\n",
       "t_straighten     71\n",
       "t_turn           71\n",
       "dtype: int64"
      ]
     },
     "execution_count": 3,
     "metadata": {},
     "output_type": "execute_result"
    }
   ],
   "source": [
    "print(targets_df.shape)\n",
    "targets_df.isnull().sum()"
   ]
  },
  {
   "cell_type": "code",
   "execution_count": 4,
   "metadata": {
    "collapsed": false
   },
   "outputs": [],
   "source": [
    "targets_df.dropna(axis=0, inplace=True)"
   ]
  },
  {
   "cell_type": "code",
   "execution_count": 5,
   "metadata": {
    "collapsed": false
   },
   "outputs": [
    {
     "name": "stdout",
     "output_type": "stream",
     "text": [
      "(1753, 22)\n"
     ]
    }
   ],
   "source": [
    "print(targets_df.shape)"
   ]
  },
  {
   "cell_type": "code",
   "execution_count": 6,
   "metadata": {
    "collapsed": false
   },
   "outputs": [
    {
     "data": {
      "text/html": [
       "<div>\n",
       "<table border=\"1\" class=\"dataframe\">\n",
       "  <thead>\n",
       "    <tr style=\"text-align: right;\">\n",
       "      <th></th>\n",
       "      <th>start</th>\n",
       "      <th>end</th>\n",
       "      <th>a_ascend</th>\n",
       "      <th>a_descend</th>\n",
       "      <th>a_jump</th>\n",
       "      <th>a_loadwalk</th>\n",
       "      <th>a_walk</th>\n",
       "      <th>p_bent</th>\n",
       "      <th>p_kneel</th>\n",
       "      <th>p_lie</th>\n",
       "      <th>...</th>\n",
       "      <th>p_stand</th>\n",
       "      <th>t_bend</th>\n",
       "      <th>t_kneel_stand</th>\n",
       "      <th>t_lie_sit</th>\n",
       "      <th>t_sit_lie</th>\n",
       "      <th>t_sit_stand</th>\n",
       "      <th>t_stand_kneel</th>\n",
       "      <th>t_stand_sit</th>\n",
       "      <th>t_straighten</th>\n",
       "      <th>t_turn</th>\n",
       "    </tr>\n",
       "  </thead>\n",
       "  <tbody>\n",
       "    <tr>\n",
       "      <th>44</th>\n",
       "      <td>44.0</td>\n",
       "      <td>45.0</td>\n",
       "      <td>0.0</td>\n",
       "      <td>0.0</td>\n",
       "      <td>0.0</td>\n",
       "      <td>0.0</td>\n",
       "      <td>1.000000</td>\n",
       "      <td>0.0</td>\n",
       "      <td>0.0</td>\n",
       "      <td>0.0</td>\n",
       "      <td>...</td>\n",
       "      <td>0.000000</td>\n",
       "      <td>0.0</td>\n",
       "      <td>0.0</td>\n",
       "      <td>0.0</td>\n",
       "      <td>0.0</td>\n",
       "      <td>0.0</td>\n",
       "      <td>0.0</td>\n",
       "      <td>0.0</td>\n",
       "      <td>0.0</td>\n",
       "      <td>0.0</td>\n",
       "    </tr>\n",
       "    <tr>\n",
       "      <th>45</th>\n",
       "      <td>45.0</td>\n",
       "      <td>46.0</td>\n",
       "      <td>0.0</td>\n",
       "      <td>0.0</td>\n",
       "      <td>0.0</td>\n",
       "      <td>0.0</td>\n",
       "      <td>1.000000</td>\n",
       "      <td>0.0</td>\n",
       "      <td>0.0</td>\n",
       "      <td>0.0</td>\n",
       "      <td>...</td>\n",
       "      <td>0.000000</td>\n",
       "      <td>0.0</td>\n",
       "      <td>0.0</td>\n",
       "      <td>0.0</td>\n",
       "      <td>0.0</td>\n",
       "      <td>0.0</td>\n",
       "      <td>0.0</td>\n",
       "      <td>0.0</td>\n",
       "      <td>0.0</td>\n",
       "      <td>0.0</td>\n",
       "    </tr>\n",
       "    <tr>\n",
       "      <th>46</th>\n",
       "      <td>46.0</td>\n",
       "      <td>47.0</td>\n",
       "      <td>0.0</td>\n",
       "      <td>0.0</td>\n",
       "      <td>0.0</td>\n",
       "      <td>0.0</td>\n",
       "      <td>1.000000</td>\n",
       "      <td>0.0</td>\n",
       "      <td>0.0</td>\n",
       "      <td>0.0</td>\n",
       "      <td>...</td>\n",
       "      <td>0.000000</td>\n",
       "      <td>0.0</td>\n",
       "      <td>0.0</td>\n",
       "      <td>0.0</td>\n",
       "      <td>0.0</td>\n",
       "      <td>0.0</td>\n",
       "      <td>0.0</td>\n",
       "      <td>0.0</td>\n",
       "      <td>0.0</td>\n",
       "      <td>0.0</td>\n",
       "    </tr>\n",
       "    <tr>\n",
       "      <th>47</th>\n",
       "      <td>47.0</td>\n",
       "      <td>48.0</td>\n",
       "      <td>0.0</td>\n",
       "      <td>0.0</td>\n",
       "      <td>0.0</td>\n",
       "      <td>0.0</td>\n",
       "      <td>1.000000</td>\n",
       "      <td>0.0</td>\n",
       "      <td>0.0</td>\n",
       "      <td>0.0</td>\n",
       "      <td>...</td>\n",
       "      <td>0.000000</td>\n",
       "      <td>0.0</td>\n",
       "      <td>0.0</td>\n",
       "      <td>0.0</td>\n",
       "      <td>0.0</td>\n",
       "      <td>0.0</td>\n",
       "      <td>0.0</td>\n",
       "      <td>0.0</td>\n",
       "      <td>0.0</td>\n",
       "      <td>0.0</td>\n",
       "    </tr>\n",
       "    <tr>\n",
       "      <th>48</th>\n",
       "      <td>48.0</td>\n",
       "      <td>49.0</td>\n",
       "      <td>0.0</td>\n",
       "      <td>0.0</td>\n",
       "      <td>0.0</td>\n",
       "      <td>0.0</td>\n",
       "      <td>0.366667</td>\n",
       "      <td>0.0</td>\n",
       "      <td>0.0</td>\n",
       "      <td>0.0</td>\n",
       "      <td>...</td>\n",
       "      <td>0.333333</td>\n",
       "      <td>0.0</td>\n",
       "      <td>0.0</td>\n",
       "      <td>0.0</td>\n",
       "      <td>0.0</td>\n",
       "      <td>0.0</td>\n",
       "      <td>0.0</td>\n",
       "      <td>0.0</td>\n",
       "      <td>0.0</td>\n",
       "      <td>0.3</td>\n",
       "    </tr>\n",
       "  </tbody>\n",
       "</table>\n",
       "<p>5 rows × 22 columns</p>\n",
       "</div>"
      ],
      "text/plain": [
       "    start   end  a_ascend  a_descend  a_jump  a_loadwalk    a_walk  p_bent  \\\n",
       "44   44.0  45.0       0.0        0.0     0.0         0.0  1.000000     0.0   \n",
       "45   45.0  46.0       0.0        0.0     0.0         0.0  1.000000     0.0   \n",
       "46   46.0  47.0       0.0        0.0     0.0         0.0  1.000000     0.0   \n",
       "47   47.0  48.0       0.0        0.0     0.0         0.0  1.000000     0.0   \n",
       "48   48.0  49.0       0.0        0.0     0.0         0.0  0.366667     0.0   \n",
       "\n",
       "    p_kneel  p_lie   ...     p_stand  t_bend  t_kneel_stand  t_lie_sit  \\\n",
       "44      0.0    0.0   ...    0.000000     0.0            0.0        0.0   \n",
       "45      0.0    0.0   ...    0.000000     0.0            0.0        0.0   \n",
       "46      0.0    0.0   ...    0.000000     0.0            0.0        0.0   \n",
       "47      0.0    0.0   ...    0.000000     0.0            0.0        0.0   \n",
       "48      0.0    0.0   ...    0.333333     0.0            0.0        0.0   \n",
       "\n",
       "    t_sit_lie  t_sit_stand  t_stand_kneel  t_stand_sit  t_straighten  t_turn  \n",
       "44        0.0          0.0            0.0          0.0           0.0     0.0  \n",
       "45        0.0          0.0            0.0          0.0           0.0     0.0  \n",
       "46        0.0          0.0            0.0          0.0           0.0     0.0  \n",
       "47        0.0          0.0            0.0          0.0           0.0     0.0  \n",
       "48        0.0          0.0            0.0          0.0           0.0     0.3  \n",
       "\n",
       "[5 rows x 22 columns]"
      ]
     },
     "execution_count": 6,
     "metadata": {},
     "output_type": "execute_result"
    }
   ],
   "source": [
    "targets_df.head()"
   ]
  },
  {
   "cell_type": "markdown",
   "metadata": {},
   "source": [
    "Let's verify that the time is 1 second on all predictions:"
   ]
  },
  {
   "cell_type": "code",
   "execution_count": 8,
   "metadata": {
    "collapsed": false
   },
   "outputs": [
    {
     "data": {
      "text/plain": [
       "1.0    1753\n",
       "dtype: int64"
      ]
     },
     "execution_count": 8,
     "metadata": {},
     "output_type": "execute_result"
    }
   ],
   "source": [
    "def total_time(row):\n",
    "    return row['end'] - row['start']\n",
    "\n",
    "(targets_df.apply(total_time, axis=1)).value_counts()"
   ]
  },
  {
   "cell_type": "markdown",
   "metadata": {},
   "source": [
    "# pir sensors (room sensors):\n",
    "\n",
    "1. start - the start time of the PIR sensor (relative to the start of the sequence)\n",
    "2. end - the end time of the PIR sensor (relative to the start of the sequence)\n",
    "3. name - the name of the PIR sensor being activated (from the above list)\n",
    "4. index - the index of the activated sensor from the pir_locations list starting at 0"
   ]
  },
  {
   "cell_type": "code",
   "execution_count": 9,
   "metadata": {
    "collapsed": true
   },
   "outputs": [],
   "source": [
    "pir_locations = ('bath', 'bed1', 'bed2', 'hall', 'kitchen', 'living', 'stairs', 'study', 'toilet')"
   ]
  },
  {
   "cell_type": "code",
   "execution_count": 10,
   "metadata": {
    "collapsed": false
   },
   "outputs": [
    {
     "name": "stdout",
     "output_type": "stream",
     "text": [
      "(115, 4)\n",
      "start    0\n",
      "end      0\n",
      "name     0\n",
      "index    0\n",
      "dtype: int64\n"
     ]
    },
    {
     "data": {
      "text/html": [
       "<div>\n",
       "<table border=\"1\" class=\"dataframe\">\n",
       "  <thead>\n",
       "    <tr style=\"text-align: right;\">\n",
       "      <th></th>\n",
       "      <th>start</th>\n",
       "      <th>end</th>\n",
       "      <th>name</th>\n",
       "      <th>index</th>\n",
       "    </tr>\n",
       "  </thead>\n",
       "  <tbody>\n",
       "    <tr>\n",
       "      <th>0</th>\n",
       "      <td>4.608</td>\n",
       "      <td>6.556</td>\n",
       "      <td>study</td>\n",
       "      <td>7</td>\n",
       "    </tr>\n",
       "    <tr>\n",
       "      <th>1</th>\n",
       "      <td>20.657</td>\n",
       "      <td>22.924</td>\n",
       "      <td>stairs</td>\n",
       "      <td>6</td>\n",
       "    </tr>\n",
       "    <tr>\n",
       "      <th>2</th>\n",
       "      <td>15.873</td>\n",
       "      <td>26.559</td>\n",
       "      <td>study</td>\n",
       "      <td>7</td>\n",
       "    </tr>\n",
       "    <tr>\n",
       "      <th>3</th>\n",
       "      <td>23.775</td>\n",
       "      <td>28.951</td>\n",
       "      <td>kitchen</td>\n",
       "      <td>4</td>\n",
       "    </tr>\n",
       "    <tr>\n",
       "      <th>4</th>\n",
       "      <td>30.457</td>\n",
       "      <td>33.776</td>\n",
       "      <td>kitchen</td>\n",
       "      <td>4</td>\n",
       "    </tr>\n",
       "  </tbody>\n",
       "</table>\n",
       "</div>"
      ],
      "text/plain": [
       "    start     end     name  index\n",
       "0   4.608   6.556    study      7\n",
       "1  20.657  22.924   stairs      6\n",
       "2  15.873  26.559    study      7\n",
       "3  23.775  28.951  kitchen      4\n",
       "4  30.457  33.776  kitchen      4"
      ]
     },
     "execution_count": 10,
     "metadata": {},
     "output_type": "execute_result"
    }
   ],
   "source": [
    "print(pirsensor_df.shape)\n",
    "print(pirsensor_df.isnull().sum())\n",
    "pirsensor_df.head()"
   ]
  },
  {
   "cell_type": "code",
   "execution_count": 11,
   "metadata": {
    "collapsed": false
   },
   "outputs": [
    {
     "data": {
      "text/plain": [
       "5    38\n",
       "4    24\n",
       "2    24\n",
       "0    12\n",
       "6     9\n",
       "7     4\n",
       "8     3\n",
       "1     1\n",
       "Name: index, dtype: int64"
      ]
     },
     "execution_count": 11,
     "metadata": {},
     "output_type": "execute_result"
    }
   ],
   "source": [
    "pirsensor_df['index'].value_counts()"
   ]
  },
  {
   "cell_type": "markdown",
   "metadata": {},
   "source": [
    "Some sensors overlap in time"
   ]
  },
  {
   "cell_type": "code",
   "execution_count": 14,
   "metadata": {
    "collapsed": false
   },
   "outputs": [
    {
     "data": {
      "text/plain": [
       "<matplotlib.collections.PathCollection at 0xa868eb8>"
      ]
     },
     "execution_count": 14,
     "metadata": {},
     "output_type": "execute_result"
    },
    {
     "data": {
      "image/png": "[encoded data removed]",
      "text/plain": [
       "<matplotlib.figure.Figure at 0xa55d160>"
      ]
     },
     "metadata": {},
     "output_type": "display_data"
    }
   ],
   "source": [
    "plt.scatter(pirsensor_df['start'],pirsensor_df['end'])"
   ]
  },
  {
   "cell_type": "markdown",
   "metadata": {
    "collapsed": true
   },
   "source": [
    "Sometimes the ovelap is because the subject stop moving in the room, some other times is just the transition from one room to another. For the former we'll add the room the subject is in but say there is no movement with another column (pig_movement). Fot the latter we'll ..."
   ]
  },
  {
   "cell_type": "markdown",
   "metadata": {},
   "source": [
    "We can join this data to know what sensor was up during the measure. There are several posibilites on how the sensors recorded the data:\n",
    "\n",
    "1. sensor started but didn't finish the seg\n",
    "2. the sensor was on the whole seg\n",
    "3. sensor started and finisht during the seg\n",
    "4. sensor started during the seg\n",
    "\n",
    "We'll merge dataframes and we'll take this into account by adding another column (numbers 1 to 4)"
   ]
  },
  {
   "cell_type": "code",
   "execution_count": null,
   "metadata": {
    "collapsed": false
   },
   "outputs": [],
   "source": [
    "def total_time(row):\n",
    "    return row['end'] - row['start']\n",
    "\n",
    "pirsensor_df['total_time'] = pirsensor_df.apply(total_time, axis=1)\n",
    "\n",
    "pirsensor_df['start_new_int'] = pirsensor_df['start'].map(lambda x: math.modf(x)[1])\n",
    "pirsensor_df['end_new_int'] = pirsensor_df['end'].map(lambda x: math.modf(x)[1])\n",
    "\n",
    "pirsensor_df['start_partial'] = pirsensor_df['start'].map(lambda x: 0 if math.modf(x)[0]<0.1 else 1)\n",
    "pirsensor_df['end_partial'] = pirsensor_df['end'].map(lambda x: 1 if math.modf(x)[0]<0.9 else 0)"
   ]
  },
  {
   "cell_type": "code",
   "execution_count": null,
   "metadata": {
    "collapsed": false
   },
   "outputs": [],
   "source": [
    "pirsensor_df.head(20)"
   ]
  },
  {
   "cell_type": "code",
   "execution_count": null,
   "metadata": {
    "collapsed": false
   },
   "outputs": [],
   "source": [
    "pirsensor_df.loc[pirsensor_df.start_new_int==190,:]"
   ]
  },
  {
   "cell_type": "markdown",
   "metadata": {},
   "source": [
    "I want to merge this df with targets, and I want to keep index, total_time, and a column called partial which will be 1 if the second was partial (either start or end there)"
   ]
  },
  {
   "cell_type": "code",
   "execution_count": null,
   "metadata": {
    "collapsed": false
   },
   "outputs": [],
   "source": [
    "targets_df['pir_sensor'] = np.nan\n",
    "targets_df['pir_sensor'] = pd.to_numeric(targets_df['pir_sensor'], errors='coerce')\n",
    "targets_df['pir_total_time'] = np.nan\n",
    "targets_df['pir_partial'] = np.nan # 0 if it was less that 0.2 seconds, 1 otherwise\n",
    "targets_df['pir_movement'] = 0\n",
    "targets_df['pir_several'] = 0"
   ]
  },
  {
   "cell_type": "markdown",
   "metadata": {},
   "source": [
    "We are going to add a column where we say if 2 sensors where picking things up at the same time"
   ]
  },
  {
   "cell_type": "code",
   "execution_count": null,
   "metadata": {
    "collapsed": false
   },
   "outputs": [],
   "source": [
    "all_segs = []\n",
    "for row in pirsensor_df.iterrows():\n",
    "    start = row[1].start_new_int\n",
    "    end = row[1].end_new_int\n",
    "           \n",
    "    # Calculate all the seconds\n",
    "    for sec in range(int(start), int(end)+1):\n",
    "        all_segs.append(sec)\n",
    "    \n",
    "import collections\n",
    "dups = [item for item, count in collections.Counter(all_segs).items() if count > 1]\n",
    "print (dups)\n",
    "\n",
    "for i in dups:\n",
    "    targets_df.loc[i, 'pir_several'] = 1"
   ]
  },
  {
   "cell_type": "markdown",
   "metadata": {},
   "source": [
    "Let's populate targets_df with all the info coming from the sensors"
   ]
  },
  {
   "cell_type": "code",
   "execution_count": null,
   "metadata": {
    "collapsed": false
   },
   "outputs": [],
   "source": [
    "for row in pirsensor_df.iterrows():\n",
    "    start = row[1].start_new_int\n",
    "    end = row[1].end_new_int\n",
    "           \n",
    "    # Calculate all the seconds\n",
    "    for sec in range(int(start), int(end)+1):\n",
    "        #print(row[1])\n",
    "        targets_df.loc[targets_df.start==sec, 'pir_sensor'] = row[1]['index']\n",
    "        targets_df.loc[targets_df.start==sec, 'pir_total_time'] = row[1].total_time\n",
    "        targets_df.loc[targets_df.start==sec, 'pir_sensor_room'] = row[1]['name']\n",
    "        targets_df.loc[targets_df.start==sec, 'pir_movement'] = 1\n",
    "        if sec == start:\n",
    "            targets_df.loc[targets_df.start==sec, 'pir_partial'] = row[1].start_partial\n",
    "        elif sec == end:\n",
    "            targets_df.loc[targets_df.start==sec, 'pir_partial'] = row[1].end_partial\n",
    "        else:\n",
    "            targets_df.loc[targets_df.start==sec, 'pir_partial'] = 0"
   ]
  },
  {
   "cell_type": "markdown",
   "metadata": {},
   "source": [
    "I need to fill up the rooms when the person is not moving my checking the last room we have info about"
   ]
  },
  {
   "cell_type": "code",
   "execution_count": null,
   "metadata": {
    "collapsed": false
   },
   "outputs": [],
   "source": [
    "for row in targets_df.iterrows():\n",
    "    if pd.notnull(row[1].pir_sensor):\n",
    "        last_sensor = row[1].pir_sensor\n",
    "        last_sensor_room = row[1].pir_sensor_room\n",
    "    else:\n",
    "        targets_df.loc[row[0], 'pir_sensor'] = last_sensor\n",
    "        targets_df.loc[row[0], 'pir_sensor_room'] = last_sensor_room"
   ]
  },
  {
   "cell_type": "code",
   "execution_count": null,
   "metadata": {
    "collapsed": false
   },
   "outputs": [],
   "source": []
  },
  {
   "cell_type": "markdown",
   "metadata": {},
   "source": [
    "# Acelerometers\n",
    "\n",
    "Participants wore a device equipped with a tri-axial accelerometer on the dominant wrist, attached using a strap. The device wirelessly transmits data using the standard to several access points (receivers) positioned within the house. The outputs of these sensors are a continuous numerical stream of the accelerometer readings (units of g). Accompanying the accelerometer readings are the that were recorded by each access point (in units of dBm), and these data will be informative for indoor localization. The accelerometers record data at 20 Hz, and the maximum accelerometer range is 8 g. Note: if the signal path between the accelerometer and the access point is shielded, this will result in loss of data.\n",
    "\n",
    "1. t: this is the time of the recording (relative to the start of the sequence)\n",
    "2. x/y/z: these are the acceleration values recorded on the x/y/z axes of the accelerometer.\n",
    "3. Kitchen_AP/Lounge_AP/Upstairs_AP/Study_AP: these specify the received signal strength indicator (RSSI) of the acceleration signal as received by the access kitchen/lounge (ie living room)/upstairs/study access points. Empty values indicate that the access point did not receive the packet."
   ]
  },
  {
   "cell_type": "code",
   "execution_count": null,
   "metadata": {
    "collapsed": false
   },
   "outputs": [],
   "source": [
    "print(acceleration_df.shape)\n",
    "print(acceleration_df.isnull().sum())\n",
    "acceleration_df.head(10)"
   ]
  },
  {
   "cell_type": "code",
   "execution_count": null,
   "metadata": {
    "collapsed": false
   },
   "outputs": [],
   "source": [
    "upstairs = acceleration_df.Upstairs_AP.dropna().value_counts().sort_index()\n",
    "lounge = acceleration_df.Lounge_AP.dropna().value_counts().sort_index()\n",
    "kitchen = acceleration_df.Kitchen_AP.dropna().value_counts().sort_index()\n",
    "fig = plt.figure(figsize=(12,6))\n",
    "ax1 = plt.subplot2grid((1,1), (0, 0))\n",
    "ax1.set(xlabel='time' , ylabel='dBm', title='Acelerometers over time',xticks=(np.arange(0, 36000, 8000.0)))\n",
    "ax1.scatter(acceleration_df.index,acceleration_df.Upstairs_AP,color='g',marker='x',alpha=0.6)\n",
    "ax1.scatter(acceleration_df.index,acceleration_df.Lounge_AP,color='r',marker='x',alpha=0.6)\n",
    "ax1.scatter(acceleration_df.index,acceleration_df.Kitchen_AP,color='b',marker='x',alpha=0.6)\n",
    "ax1.scatter(acceleration_df.index,acceleration_df.Study_AP,color='m',marker='x',alpha=0.6)\n",
    "ax1.legend(loc=2,prop={'size':9})\n",
    "plt.tight_layout()\n",
    "plt.show()"
   ]
  },
  {
   "cell_type": "markdown",
   "metadata": {},
   "source": [
    "There are sevelar measures in every second. We need to group this somehow. We'll do this by taking the mean and sd"
   ]
  },
  {
   "cell_type": "code",
   "execution_count": null,
   "metadata": {
    "collapsed": false
   },
   "outputs": [],
   "source": [
    "acceleration_df.loc[acceleration_df.t>17].head(10)"
   ]
  },
  {
   "cell_type": "code",
   "execution_count": null,
   "metadata": {
    "collapsed": false
   },
   "outputs": [],
   "source": [
    "acceleration_df[\"start\"] = acceleration_df.t.map(lambda x: math.modf(x)[1])"
   ]
  },
  {
   "cell_type": "code",
   "execution_count": null,
   "metadata": {
    "collapsed": false
   },
   "outputs": [],
   "source": [
    "gb_acc = acceleration_df.groupby('start')\n",
    "acc_mean = gb_acc['x','y','z','Kitchen_AP','Lounge_AP','Upstairs_AP','Study_AP'].aggregate(np.mean)\n",
    "acc_std = gb_acc['x','y','z','Kitchen_AP','Lounge_AP','Upstairs_AP','Study_AP'].aggregate(np.std)\n",
    "\n",
    "acceleration_sec_df = pd.DataFrame()\n",
    "acceleration_sec_df['start'] = acc_mean.index\n",
    "acceleration_sec_df['acc_x_mean'] = acc_mean['x'].values\n",
    "acceleration_sec_df['acc_y_mean'] = acc_mean['y'].values\n",
    "acceleration_sec_df['acc_z_mean'] = acc_mean['z'].values\n",
    "acceleration_sec_df['acc_x_std'] = acc_std['x'].values\n",
    "acceleration_sec_df['acc_y_std'] = acc_std['y'].values\n",
    "acceleration_sec_df['acc_z_std'] = acc_std['z'].values\n",
    "acceleration_sec_df['acc_kitchen_mean'] = acc_mean['Kitchen_AP'].values\n",
    "acceleration_sec_df['acc_lounge_mean'] = acc_mean['Lounge_AP'].values\n",
    "acceleration_sec_df['acc_upstairs_mean'] = acc_mean['Upstairs_AP'].values\n",
    "acceleration_sec_df['acc_study_mean'] = acc_mean['Study_AP'].values\n",
    "acceleration_sec_df['acc_kitchen_std'] = acc_std['Kitchen_AP'].values\n",
    "acceleration_sec_df['acc_lounge_std'] = acc_std['Lounge_AP'].values\n",
    "acceleration_sec_df['acc_upstairs_std'] = acc_std['Upstairs_AP'].values\n",
    "acceleration_sec_df['acc_study_std'] = acc_std['Study_AP'].values\n",
    "\n",
    "acceleration_sec_df.head()"
   ]
  },
  {
   "cell_type": "code",
   "execution_count": null,
   "metadata": {
    "collapsed": false
   },
   "outputs": [],
   "source": [
    "all_df = pd.merge(targets_df, acceleration_sec_df, on='start', how='left')"
   ]
  },
  {
   "cell_type": "code",
   "execution_count": null,
   "metadata": {
    "collapsed": false
   },
   "outputs": [],
   "source": [
    "all_df.head()"
   ]
  },
  {
   "cell_type": "markdown",
   "metadata": {},
   "source": [
    "# VIDEO_\n",
    "\n",
    "vhallway_df, \n",
    "vkitchen_df, \n",
    "vlivingroom_df.\n",
    "\n",
    "1. t: The current time (relative to the start of the sequence)\n",
    "2. centre_2d_x/centre_2d_y: The x- and y-coordinates of the center of the 2D bounding box.\n",
    "3. bb_2d_br_x/bb_2d_br_y: The x and y coordinates of the bottom right (br) corner of the 2D bounding box\n",
    "4. bb_2d_tl_x/bb_2d_tl_y: The x and y coordinates of the top left (tl) corner of the 2D bounding box\n",
    "5. centre_3d_x/centre_3d_y/centre_3d_z: the x, y and z coordinates for the center of the 3D bounding box\n",
    "6. bb_3d_brb_x/bb_3d_brb_y/bb_3d_brb_z: the x, y, and z coordinates for the bottom right back corner of the 3D bounding box\n",
    "7. bb_3d_flt_x/bb_3d_flt_y/bb_3d_flt_z: the x, y, and z coordinates of the front left top corner of the 3D bounding box.\n"
   ]
  },
  {
   "cell_type": "markdown",
   "metadata": {},
   "source": [
    "Per video csv I'll check nulls and I'll group by second aggregating by mean and std. I'll add the results to the main table (all_df)"
   ]
  },
  {
   "cell_type": "markdown",
   "metadata": {},
   "source": [
    "*** vhallway_df ***"
   ]
  },
  {
   "cell_type": "code",
   "execution_count": null,
   "metadata": {
    "collapsed": false
   },
   "outputs": [],
   "source": [
    "print(vhallway_df.shape)\n",
    "print(vhallway_df.isnull().sum())\n",
    "vhallway_df.head()"
   ]
  },
  {
   "cell_type": "code",
   "execution_count": null,
   "metadata": {
    "collapsed": false
   },
   "outputs": [],
   "source": [
    "video_columns = list(vhallway_df.columns)\n",
    "video_columns.remove('t')\n",
    "video_columns"
   ]
  },
  {
   "cell_type": "code",
   "execution_count": null,
   "metadata": {
    "collapsed": false
   },
   "outputs": [],
   "source": [
    "vhallway_df[\"start\"] = vhallway_df.t.map(lambda x: math.modf(x)[1])\n",
    "\n",
    "gb_vid = vhallway_df.groupby('start')\n",
    "v_mean = gb_vid[video_columns].aggregate(np.mean)\n",
    "v_std = gb_vid[video_columns].aggregate(np.std)\n",
    "\n",
    "video_df = pd.DataFrame()\n",
    "(video_df)['start'] = v_mean.index\n",
    "print(video_df.shape)\n",
    "for col in video_columns:\n",
    "    video_df['vid_hall_'+col+'_mean'] = v_mean[col].values\n",
    "    video_df['vid_hall_'+col+'_std'] = v_std[col].values\n",
    "    \n",
    "all_df = pd.merge(all_df, video_df, on='start', how='left')"
   ]
  },
  {
   "cell_type": "markdown",
   "metadata": {},
   "source": [
    "*** vkitchen_df ***"
   ]
  },
  {
   "cell_type": "code",
   "execution_count": null,
   "metadata": {
    "collapsed": false
   },
   "outputs": [],
   "source": [
    "print(vkitchen_df.shape)\n",
    "print(vkitchen_df.isnull().sum())\n",
    "vkitchen_df.head()"
   ]
  },
  {
   "cell_type": "code",
   "execution_count": null,
   "metadata": {
    "collapsed": false
   },
   "outputs": [],
   "source": [
    "vkitchen_df[\"start\"] = vkitchen_df.t.map(lambda x: math.modf(x)[1])\n",
    "\n",
    "gb_vid = vkitchen_df.groupby('start')\n",
    "v_mean = gb_vid[video_columns].aggregate(np.mean)\n",
    "v_std = gb_vid[video_columns].aggregate(np.std)\n",
    "\n",
    "video_df = pd.DataFrame()\n",
    "video_df['start'] = v_mean.index\n",
    "print(video_df.shape)\n",
    "for col in video_columns:\n",
    "    video_df['vid_kit_'+col+'_mean'] = v_mean[col].values\n",
    "    video_df['vid_kit_'+col+'_std'] = v_std[col].values\n",
    "    \n",
    "all_df = pd.merge(all_df, video_df, on='start', how='left') "
   ]
  },
  {
   "cell_type": "markdown",
   "metadata": {},
   "source": [
    "*** vlivingroom_df ***"
   ]
  },
  {
   "cell_type": "code",
   "execution_count": null,
   "metadata": {
    "collapsed": false
   },
   "outputs": [],
   "source": [
    "print(vlivingroom_df.shape)\n",
    "print(vlivingroom_df.isnull().sum())\n",
    "vlivingroom_df.head()"
   ]
  },
  {
   "cell_type": "code",
   "execution_count": null,
   "metadata": {
    "collapsed": false
   },
   "outputs": [],
   "source": [
    "vlivingroom_df[\"start\"] = vlivingroom_df.t.map(lambda x: math.modf(x)[1])\n",
    "\n",
    "gb_vid = vlivingroom_df.groupby('start')\n",
    "v_mean = gb_vid[video_columns].aggregate(np.mean)\n",
    "v_std = gb_vid[video_columns].aggregate(np.std)\n",
    "\n",
    "video_df = pd.DataFrame()\n",
    "video_df['start'] = v_mean.index\n",
    "print(video_df.shape)\n",
    "for col in video_columns:\n",
    "    video_df['vid_liv_'+col+'_mean'] = v_mean[col].values\n",
    "    video_df['vid_liv_'+col+'_std'] = v_std[col].values\n",
    "    \n",
    "all_df = pd.merge(all_df, video_df, on='start', how='left')"
   ]
  },
  {
   "cell_type": "code",
   "execution_count": null,
   "metadata": {
    "collapsed": false
   },
   "outputs": [],
   "source": [
    "all_df.shape"
   ]
  },
  {
   "cell_type": "code",
   "execution_count": null,
   "metadata": {
    "collapsed": false
   },
   "outputs": [],
   "source": [
    "import missingno as msno\n",
    "msno.matrix(all_df)"
   ]
  },
  {
   "cell_type": "code",
   "execution_count": null,
   "metadata": {
    "collapsed": false
   },
   "outputs": [],
   "source": [
    "all_df.head()"
   ]
  },
  {
   "cell_type": "code",
   "execution_count": null,
   "metadata": {
    "collapsed": false
   },
   "outputs": [],
   "source": [
    "all_df.drop(['start','end'], axis=1, inplace= True)"
   ]
  },
  {
   "cell_type": "code",
   "execution_count": null,
   "metadata": {
    "collapsed": false
   },
   "outputs": [],
   "source": [
    "print(all_df.shape)\n",
    "all_df.head()"
   ]
  },
  {
   "cell_type": "code",
   "execution_count": null,
   "metadata": {
    "collapsed": false
   },
   "outputs": [],
   "source": []
  },
  {
   "cell_type": "code",
   "execution_count": null,
   "metadata": {
    "collapsed": true
   },
   "outputs": [],
   "source": []
  }
 ],
 "metadata": {
  "kernelspec": {
   "display_name": "Python 3",
   "language": "python",
   "name": "python3"
  },
  "language_info": {
   "codemirror_mode": {
    "name": "ipython",
    "version": 3
   },
   "file_extension": ".py",
   "mimetype": "text/x-python",
   "name": "python",
   "nbconvert_exporter": "python",
   "pygments_lexer": "ipython3",
   "version": "3.5.1"
  }
 },
 "nbformat": 4,
 "nbformat_minor": 0
}
